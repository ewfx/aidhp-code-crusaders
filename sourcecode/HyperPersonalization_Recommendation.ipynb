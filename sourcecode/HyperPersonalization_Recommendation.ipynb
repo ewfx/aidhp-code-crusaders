{
  "cells": [
    {
      "cell_type": "code",
      "execution_count": null,
      "metadata": {
        "id": "10pYgCMQWM7C"
      },
      "outputs": [],
      "source": [
        "from pydantic import BaseModel\n",
        "import torch"
      ]
    },
    {
      "cell_type": "code",
      "execution_count": null,
      "metadata": {
        "id": "gCodT9XiWvmc"
      },
      "outputs": [],
      "source": [
        "# This part of code will skip all the un-necessary warnings which can occur during the execution of this project.\n",
        "import warnings\n",
        "warnings.filterwarnings(\"ignore\", category=Warning)"
      ]
    },
    {
      "cell_type": "code",
      "execution_count": null,
      "metadata": {
        "colab": {
          "base_uri": "https://localhost:8080/"
        },
        "id": "ArfFzy3kWwoi",
        "outputId": "17eebdc2-cfec-4144-a4a0-4074293a00de"
      },
      "outputs": [
        {
          "output_type": "stream",
          "name": "stdout",
          "text": [
            "Collecting llama-cpp-python==0.2.69\n",
            "  Downloading llama_cpp_python-0.2.69.tar.gz (42.5 MB)\n",
            "\u001b[2K     \u001b[90m━━━━━━━━━━━━━━━━━━━━━━━━━━━━━━━━━━━━━━━━\u001b[0m \u001b[32m42.5/42.5 MB\u001b[0m \u001b[31m9.9 MB/s\u001b[0m eta \u001b[36m0:00:00\u001b[0m\n",
            "\u001b[?25h  Installing build dependencies ... \u001b[?25l\u001b[?25hdone\n",
            "  Getting requirements to build wheel ... \u001b[?25l\u001b[?25hdone\n",
            "  Installing backend dependencies ... \u001b[?25l\u001b[?25hdone\n",
            "  Preparing metadata (pyproject.toml) ... \u001b[?25l\u001b[?25hdone\n",
            "Requirement already satisfied: typing-extensions>=4.5.0 in /usr/local/lib/python3.11/dist-packages (from llama-cpp-python==0.2.69) (4.12.2)\n",
            "Requirement already satisfied: numpy>=1.20.0 in /usr/local/lib/python3.11/dist-packages (from llama-cpp-python==0.2.69) (2.0.2)\n",
            "Collecting diskcache>=5.6.1 (from llama-cpp-python==0.2.69)\n",
            "  Downloading diskcache-5.6.3-py3-none-any.whl.metadata (20 kB)\n",
            "Requirement already satisfied: jinja2>=2.11.3 in /usr/local/lib/python3.11/dist-packages (from llama-cpp-python==0.2.69) (3.1.6)\n",
            "Requirement already satisfied: MarkupSafe>=2.0 in /usr/local/lib/python3.11/dist-packages (from jinja2>=2.11.3->llama-cpp-python==0.2.69) (3.0.2)\n",
            "Downloading diskcache-5.6.3-py3-none-any.whl (45 kB)\n",
            "\u001b[2K   \u001b[90m━━━━━━━━━━━━━━━━━━━━━━━━━━━━━━━━━━━━━━━━\u001b[0m \u001b[32m45.5/45.5 kB\u001b[0m \u001b[31m4.3 MB/s\u001b[0m eta \u001b[36m0:00:00\u001b[0m\n",
            "\u001b[?25hBuilding wheels for collected packages: llama-cpp-python\n",
            "  Building wheel for llama-cpp-python (pyproject.toml) ... \u001b[?25l\u001b[?25hdone\n",
            "  Created wheel for llama-cpp-python: filename=llama_cpp_python-0.2.69-cp311-cp311-linux_x86_64.whl size=55715097 sha256=9adb871902ce04cc7db3d975f395b6baaf6b0e413f003c5096505b303c92d534\n",
            "  Stored in directory: /root/.cache/pip/wheels/e8/1b/ff/b4dba97fbd16e731705b262602ba8f3b672bf4bde54ea0c104\n",
            "Successfully built llama-cpp-python\n",
            "Installing collected packages: diskcache, llama-cpp-python\n",
            "Successfully installed diskcache-5.6.3 llama-cpp-python-0.2.69\n",
            "Requirement already satisfied: huggingface_hub in /usr/local/lib/python3.11/dist-packages (0.29.3)\n",
            "Requirement already satisfied: filelock in /usr/local/lib/python3.11/dist-packages (from huggingface_hub) (3.18.0)\n",
            "Requirement already satisfied: fsspec>=2023.5.0 in /usr/local/lib/python3.11/dist-packages (from huggingface_hub) (2025.3.0)\n",
            "Requirement already satisfied: packaging>=20.9 in /usr/local/lib/python3.11/dist-packages (from huggingface_hub) (24.2)\n",
            "Requirement already satisfied: pyyaml>=5.1 in /usr/local/lib/python3.11/dist-packages (from huggingface_hub) (6.0.2)\n",
            "Requirement already satisfied: requests in /usr/local/lib/python3.11/dist-packages (from huggingface_hub) (2.32.3)\n",
            "Requirement already satisfied: tqdm>=4.42.1 in /usr/local/lib/python3.11/dist-packages (from huggingface_hub) (4.67.1)\n",
            "Requirement already satisfied: typing-extensions>=3.7.4.3 in /usr/local/lib/python3.11/dist-packages (from huggingface_hub) (4.12.2)\n",
            "Requirement already satisfied: charset-normalizer<4,>=2 in /usr/local/lib/python3.11/dist-packages (from requests->huggingface_hub) (3.4.1)\n",
            "Requirement already satisfied: idna<4,>=2.5 in /usr/local/lib/python3.11/dist-packages (from requests->huggingface_hub) (3.10)\n",
            "Requirement already satisfied: urllib3<3,>=1.21.1 in /usr/local/lib/python3.11/dist-packages (from requests->huggingface_hub) (2.3.0)\n",
            "Requirement already satisfied: certifi>=2017.4.17 in /usr/local/lib/python3.11/dist-packages (from requests->huggingface_hub) (2025.1.31)\n"
          ]
        }
      ],
      "source": [
        "# Installation for GPU llama-cpp-python==0.2.69\n",
        "!CMAKE_ARGS=\"-DLLAMA_CUDA=on\" pip install llama-cpp-python==0.2.69\n",
        "# For downloading the models from HF Hub\n",
        "!pip install huggingface_hub"
      ]
    },
    {
      "cell_type": "code",
      "source": [
        "# !pip uninstall llama-cpp-python\n",
        "# CMAKE_ARGS=\"-DLLAMA_CUBLAS=on\"\n",
        "# !pip install --force-reinstall llama-cpp-python --no-cache-dir"
      ],
      "metadata": {
        "id": "Yd5vrioSMqWz"
      },
      "execution_count": null,
      "outputs": []
    },
    {
      "cell_type": "code",
      "execution_count": null,
      "metadata": {
        "id": "gjGSflfjX0jt"
      },
      "outputs": [],
      "source": [
        "import json\n",
        "\n",
        "import numpy as np\n",
        "import pandas as pd\n",
        "\n",
        "from sklearn.model_selection import train_test_split\n",
        "\n",
        "from huggingface_hub import hf_hub_download\n",
        "from llama_cpp import Llama\n",
        "\n",
        "from tqdm import tqdm\n",
        "from collections import Counter"
      ]
    },
    {
      "cell_type": "code",
      "execution_count": null,
      "metadata": {
        "colab": {
          "base_uri": "https://localhost:8080/",
          "height": 1000,
          "referenced_widgets": [
            "dcc64f0a7cd94914ba924f4ef8e2f06c",
            "e9dc449cf0db49b390ecbd1367193ac7",
            "1e6aa3a762534e58a2257b78a72ce96d",
            "05522cf9bda64804acc4578ebfd71065",
            "f46b3ebbb7a344a6bc091802c3b769d1",
            "ce6707adc768418b8bc14806cf5d8389",
            "b39f611b8d7d4d46874155645d820e32",
            "06d5ba1a47bf4b6d9f5867125a50944b",
            "8f59fcc8cd6f4471b9c719af76d9fa8d",
            "c11db3d80ab84df79e618d40ce627991",
            "766f93cb05f6436db2fe76e4b0ee7c02"
          ]
        },
        "id": "FMetDxJGWRAJ",
        "outputId": "baa79021-6e84-40d5-d890-e087d76300d5"
      },
      "outputs": [
        {
          "output_type": "display_data",
          "data": {
            "text/plain": [
              "mistral-7b-instruct-v0.2.Q5_K_M.gguf:   0%|          | 0.00/5.13G [00:00<?, ?B/s]"
            ],
            "application/vnd.jupyter.widget-view+json": {
              "version_major": 2,
              "version_minor": 0,
              "model_id": "dcc64f0a7cd94914ba924f4ef8e2f06c"
            }
          },
          "metadata": {}
        },
        {
          "output_type": "stream",
          "name": "stderr",
          "text": [
            "llama_model_loader: loaded meta data with 24 key-value pairs and 291 tensors from /root/.cache/huggingface/hub/models--TheBloke--Mistral-7B-Instruct-v0.2-GGUF/snapshots/3a6fbf4a41a1d52e415a4958cde6856d34b2db93/mistral-7b-instruct-v0.2.Q5_K_M.gguf (version GGUF V3 (latest))\n",
            "llama_model_loader: Dumping metadata keys/values. Note: KV overrides do not apply in this output.\n",
            "llama_model_loader: - kv   0:                       general.architecture str              = llama\n",
            "llama_model_loader: - kv   1:                               general.name str              = mistralai_mistral-7b-instruct-v0.2\n",
            "llama_model_loader: - kv   2:                       llama.context_length u32              = 32768\n",
            "llama_model_loader: - kv   3:                     llama.embedding_length u32              = 4096\n",
            "llama_model_loader: - kv   4:                          llama.block_count u32              = 32\n",
            "llama_model_loader: - kv   5:                  llama.feed_forward_length u32              = 14336\n",
            "llama_model_loader: - kv   6:                 llama.rope.dimension_count u32              = 128\n",
            "llama_model_loader: - kv   7:                 llama.attention.head_count u32              = 32\n",
            "llama_model_loader: - kv   8:              llama.attention.head_count_kv u32              = 8\n",
            "llama_model_loader: - kv   9:     llama.attention.layer_norm_rms_epsilon f32              = 0.000010\n",
            "llama_model_loader: - kv  10:                       llama.rope.freq_base f32              = 1000000.000000\n",
            "llama_model_loader: - kv  11:                          general.file_type u32              = 17\n",
            "llama_model_loader: - kv  12:                       tokenizer.ggml.model str              = llama\n",
            "llama_model_loader: - kv  13:                      tokenizer.ggml.tokens arr[str,32000]   = [\"<unk>\", \"<s>\", \"</s>\", \"<0x00>\", \"<...\n",
            "llama_model_loader: - kv  14:                      tokenizer.ggml.scores arr[f32,32000]   = [0.000000, 0.000000, 0.000000, 0.0000...\n",
            "llama_model_loader: - kv  15:                  tokenizer.ggml.token_type arr[i32,32000]   = [2, 3, 3, 6, 6, 6, 6, 6, 6, 6, 6, 6, ...\n",
            "llama_model_loader: - kv  16:                tokenizer.ggml.bos_token_id u32              = 1\n",
            "llama_model_loader: - kv  17:                tokenizer.ggml.eos_token_id u32              = 2\n",
            "llama_model_loader: - kv  18:            tokenizer.ggml.unknown_token_id u32              = 0\n",
            "llama_model_loader: - kv  19:            tokenizer.ggml.padding_token_id u32              = 0\n",
            "llama_model_loader: - kv  20:               tokenizer.ggml.add_bos_token bool             = true\n",
            "llama_model_loader: - kv  21:               tokenizer.ggml.add_eos_token bool             = false\n",
            "llama_model_loader: - kv  22:                    tokenizer.chat_template str              = {{ bos_token }}{% for message in mess...\n",
            "llama_model_loader: - kv  23:               general.quantization_version u32              = 2\n",
            "llama_model_loader: - type  f32:   65 tensors\n",
            "llama_model_loader: - type q5_K:  193 tensors\n",
            "llama_model_loader: - type q6_K:   33 tensors\n",
            "llm_load_vocab: special tokens definition check successful ( 259/32000 ).\n",
            "llm_load_print_meta: format           = GGUF V3 (latest)\n",
            "llm_load_print_meta: arch             = llama\n",
            "llm_load_print_meta: vocab type       = SPM\n",
            "llm_load_print_meta: n_vocab          = 32000\n",
            "llm_load_print_meta: n_merges         = 0\n",
            "llm_load_print_meta: n_ctx_train      = 32768\n",
            "llm_load_print_meta: n_embd           = 4096\n",
            "llm_load_print_meta: n_head           = 32\n",
            "llm_load_print_meta: n_head_kv        = 8\n",
            "llm_load_print_meta: n_layer          = 32\n",
            "llm_load_print_meta: n_rot            = 128\n",
            "llm_load_print_meta: n_embd_head_k    = 128\n",
            "llm_load_print_meta: n_embd_head_v    = 128\n",
            "llm_load_print_meta: n_gqa            = 4\n",
            "llm_load_print_meta: n_embd_k_gqa     = 1024\n",
            "llm_load_print_meta: n_embd_v_gqa     = 1024\n",
            "llm_load_print_meta: f_norm_eps       = 0.0e+00\n",
            "llm_load_print_meta: f_norm_rms_eps   = 1.0e-05\n",
            "llm_load_print_meta: f_clamp_kqv      = 0.0e+00\n",
            "llm_load_print_meta: f_max_alibi_bias = 0.0e+00\n",
            "llm_load_print_meta: f_logit_scale    = 0.0e+00\n",
            "llm_load_print_meta: n_ff             = 14336\n",
            "llm_load_print_meta: n_expert         = 0\n",
            "llm_load_print_meta: n_expert_used    = 0\n",
            "llm_load_print_meta: causal attn      = 1\n",
            "llm_load_print_meta: pooling type     = 0\n",
            "llm_load_print_meta: rope type        = 0\n",
            "llm_load_print_meta: rope scaling     = linear\n",
            "llm_load_print_meta: freq_base_train  = 1000000.0\n",
            "llm_load_print_meta: freq_scale_train = 1\n",
            "llm_load_print_meta: n_yarn_orig_ctx  = 32768\n",
            "llm_load_print_meta: rope_finetuned   = unknown\n",
            "llm_load_print_meta: ssm_d_conv       = 0\n",
            "llm_load_print_meta: ssm_d_inner      = 0\n",
            "llm_load_print_meta: ssm_d_state      = 0\n",
            "llm_load_print_meta: ssm_dt_rank      = 0\n",
            "llm_load_print_meta: model type       = 8B\n",
            "llm_load_print_meta: model ftype      = Q5_K - Medium\n",
            "llm_load_print_meta: model params     = 7.24 B\n",
            "llm_load_print_meta: model size       = 4.78 GiB (5.67 BPW) \n",
            "llm_load_print_meta: general.name     = mistralai_mistral-7b-instruct-v0.2\n",
            "llm_load_print_meta: BOS token        = 1 '<s>'\n",
            "llm_load_print_meta: EOS token        = 2 '</s>'\n",
            "llm_load_print_meta: UNK token        = 0 '<unk>'\n",
            "llm_load_print_meta: PAD token        = 0 '<unk>'\n",
            "llm_load_print_meta: LF token         = 13 '<0x0A>'\n",
            "llm_load_tensors: ggml ctx size =    0.30 MiB\n",
            "llm_load_tensors: offloading 32 repeating layers to GPU\n",
            "llm_load_tensors: offloading non-repeating layers to GPU\n",
            "llm_load_tensors: offloaded 33/33 layers to GPU\n",
            "llm_load_tensors:        CPU buffer size =    85.94 MiB\n",
            "llm_load_tensors:      CUDA0 buffer size =  4807.05 MiB\n",
            "...................................................................................................\n",
            "llama_new_context_with_model: n_ctx      = 4096\n",
            "llama_new_context_with_model: n_batch    = 512\n",
            "llama_new_context_with_model: n_ubatch   = 512\n",
            "llama_new_context_with_model: flash_attn = 0\n",
            "llama_new_context_with_model: freq_base  = 1000000.0\n",
            "llama_new_context_with_model: freq_scale = 1\n",
            "llama_kv_cache_init:      CUDA0 KV buffer size =   512.00 MiB\n",
            "llama_new_context_with_model: KV self size  =  512.00 MiB, K (f16):  256.00 MiB, V (f16):  256.00 MiB\n",
            "llama_new_context_with_model:  CUDA_Host  output buffer size =     0.12 MiB\n",
            "llama_new_context_with_model:      CUDA0 compute buffer size =   296.00 MiB\n",
            "llama_new_context_with_model:  CUDA_Host compute buffer size =    16.01 MiB\n",
            "llama_new_context_with_model: graph nodes  = 1030\n",
            "llama_new_context_with_model: graph splits = 2\n",
            "AVX = 1 | AVX_VNNI = 0 | AVX2 = 1 | AVX512 = 1 | AVX512_VBMI = 0 | AVX512_VNNI = 0 | FMA = 1 | NEON = 0 | ARM_FMA = 0 | F16C = 1 | FP16_VA = 0 | WASM_SIMD = 0 | BLAS = 1 | SSE3 = 1 | SSSE3 = 1 | VSX = 0 | MATMUL_INT8 = 0 | LLAMAFILE = 1 | \n",
            "Model metadata: {'tokenizer.chat_template': \"{{ bos_token }}{% for message in messages %}{% if (message['role'] == 'user') != (loop.index0 % 2 == 0) %}{{ raise_exception('Conversation roles must alternate user/assistant/user/assistant/...') }}{% endif %}{% if message['role'] == 'user' %}{{ '[INST] ' + message['content'] + ' [/INST]' }}{% elif message['role'] == 'assistant' %}{{ message['content'] + eos_token}}{% else %}{{ raise_exception('Only user and assistant roles are supported!') }}{% endif %}{% endfor %}\", 'tokenizer.ggml.add_eos_token': 'false', 'tokenizer.ggml.padding_token_id': '0', 'tokenizer.ggml.unknown_token_id': '0', 'tokenizer.ggml.eos_token_id': '2', 'general.architecture': 'llama', 'llama.rope.freq_base': '1000000.000000', 'llama.context_length': '32768', 'general.name': 'mistralai_mistral-7b-instruct-v0.2', 'tokenizer.ggml.add_bos_token': 'true', 'llama.embedding_length': '4096', 'llama.feed_forward_length': '14336', 'llama.attention.layer_norm_rms_epsilon': '0.000010', 'llama.rope.dimension_count': '128', 'tokenizer.ggml.bos_token_id': '1', 'llama.attention.head_count': '32', 'llama.block_count': '32', 'llama.attention.head_count_kv': '8', 'general.quantization_version': '2', 'tokenizer.ggml.model': 'llama', 'general.file_type': '17'}\n",
            "Guessed chat format: mistral-instruct\n"
          ]
        }
      ],
      "source": [
        "# Load Mistral 7B model (Placeholder for actual model loading)\n",
        "def load_model():\n",
        "    model_name_or_path = \"TheBloke/Mistral-7B-Instruct-v0.2-GGUF\"\n",
        "    model_basename = \"mistral-7b-instruct-v0.2.Q5_K_M.gguf\"\n",
        "    model_path = hf_hub_download(\n",
        "              repo_id=model_name_or_path,\n",
        "              filename=model_basename\n",
        "          )\n",
        "    lcpp_llm = Llama(\n",
        "\n",
        "            model_path=model_path,\n",
        "            n_threads=2, # CPU cores\n",
        "            n_batch=512, # Should be between 1 and n_ctx, consider the amount of VRAM in your GPU.\n",
        "            n_gpu_layers=43, # Change this value based on your model and your GPU VRAM pool.\n",
        "            n_ctx=4096 # Context window\n",
        "        )\n",
        "    return lcpp_llm\n",
        "\n",
        "model = load_model()"
      ]
    },
    {
      "cell_type": "code",
      "execution_count": null,
      "metadata": {
        "colab": {
          "base_uri": "https://localhost:8080/"
        },
        "id": "W_yxqJ4ujFgj",
        "outputId": "566c9f85-31cb-40da-ac6e-1f494296eaad"
      },
      "outputs": [
        {
          "output_type": "stream",
          "name": "stdout",
          "text": [
            "Requirement already satisfied: flask in /usr/local/lib/python3.11/dist-packages (3.1.0)\n",
            "Collecting flask-ngrok\n",
            "  Downloading flask_ngrok-0.0.25-py3-none-any.whl.metadata (1.8 kB)\n",
            "Requirement already satisfied: Werkzeug>=3.1 in /usr/local/lib/python3.11/dist-packages (from flask) (3.1.3)\n",
            "Requirement already satisfied: Jinja2>=3.1.2 in /usr/local/lib/python3.11/dist-packages (from flask) (3.1.6)\n",
            "Requirement already satisfied: itsdangerous>=2.2 in /usr/local/lib/python3.11/dist-packages (from flask) (2.2.0)\n",
            "Requirement already satisfied: click>=8.1.3 in /usr/local/lib/python3.11/dist-packages (from flask) (8.1.8)\n",
            "Requirement already satisfied: blinker>=1.9 in /usr/local/lib/python3.11/dist-packages (from flask) (1.9.0)\n",
            "Requirement already satisfied: requests in /usr/local/lib/python3.11/dist-packages (from flask-ngrok) (2.32.3)\n",
            "Requirement already satisfied: MarkupSafe>=2.0 in /usr/local/lib/python3.11/dist-packages (from Jinja2>=3.1.2->flask) (3.0.2)\n",
            "Requirement already satisfied: charset-normalizer<4,>=2 in /usr/local/lib/python3.11/dist-packages (from requests->flask-ngrok) (3.4.1)\n",
            "Requirement already satisfied: idna<4,>=2.5 in /usr/local/lib/python3.11/dist-packages (from requests->flask-ngrok) (3.10)\n",
            "Requirement already satisfied: urllib3<3,>=1.21.1 in /usr/local/lib/python3.11/dist-packages (from requests->flask-ngrok) (2.3.0)\n",
            "Requirement already satisfied: certifi>=2017.4.17 in /usr/local/lib/python3.11/dist-packages (from requests->flask-ngrok) (2025.1.31)\n",
            "Downloading flask_ngrok-0.0.25-py3-none-any.whl (3.1 kB)\n",
            "Installing collected packages: flask-ngrok\n",
            "Successfully installed flask-ngrok-0.0.25\n",
            "Collecting pyngrok\n",
            "  Downloading pyngrok-7.2.3-py3-none-any.whl.metadata (8.7 kB)\n",
            "Requirement already satisfied: PyYAML>=5.1 in /usr/local/lib/python3.11/dist-packages (from pyngrok) (6.0.2)\n",
            "Downloading pyngrok-7.2.3-py3-none-any.whl (23 kB)\n",
            "Installing collected packages: pyngrok\n",
            "Successfully installed pyngrok-7.2.3\n"
          ]
        }
      ],
      "source": [
        "!pip install flask flask-ngrok\n",
        "!pip install pyngrok"
      ]
    },
    {
      "cell_type": "code",
      "execution_count": null,
      "metadata": {
        "colab": {
          "base_uri": "https://localhost:8080/"
        },
        "id": "k09rfc5zaenz",
        "outputId": "c1e7431e-1530-4c0d-acfe-efa488fc8896"
      },
      "outputs": [
        {
          "output_type": "stream",
          "name": "stdout",
          "text": [
            "Authtoken saved to configuration file: /root/.config/ngrok/ngrok.yml\n"
          ]
        }
      ],
      "source": [
        "from pydantic import BaseModel\n",
        "from flask import Flask, jsonify, request\n",
        "from flask_ngrok import run_with_ngrok  # Ensure you have flask-ngrok installed\n",
        "from pyngrok import ngrok\n",
        "\n",
        "app = Flask(__name__)\n",
        "run_with_ngrok(app)  # Enables ngrok\n",
        "\n",
        "!ngrok authtoken 2flPCqXtK0mJarxJ8qKyWAdyP8P_5jAr786C4PjUnW9QWZ2kZ"
      ]
    },
    {
      "cell_type": "code",
      "execution_count": null,
      "metadata": {
        "id": "54ClzYgflCZr"
      },
      "outputs": [],
      "source": [
        "class PredictionRequest(BaseModel):\n",
        "  message: str\n",
        "  max_tokens: int = 200"
      ]
    },
    {
      "cell_type": "code",
      "execution_count": null,
      "metadata": {
        "id": "2oqhBQlntGa7"
      },
      "outputs": [],
      "source": [
        "mistral_prompt_template = \"\"\"<s>[INST]{prompt}[/INST]\"\"\"\n",
        "\n",
        "answers_template = \"\"\"\n",
        "Context:\n",
        "{context}\n",
        "===\n",
        "Using the context above generate {num_answers} distinct answers to the following question:\n",
        "Question:\n",
        "{question}.\n",
        "\n",
        "Arrange your answers in numbered bullet points.\n",
        "Present only the answers in bullet points.\n",
        "\"\"\""
      ]
    },
    {
      "cell_type": "code",
      "execution_count": null,
      "metadata": {
        "id": "7D-j0koVxlSU"
      },
      "outputs": [],
      "source": [
        "def generateModelResponse(user_query, user_query_context):\n",
        "  answers_prompt = mistral_prompt_template.format(\n",
        "      prompt=answers_template.format(\n",
        "          context=user_query_context,\n",
        "          question=user_query,\n",
        "          num_answers=3\n",
        "      )\n",
        "  )\n",
        "\n",
        "  response = model(\n",
        "    prompt=answers_prompt,\n",
        "    max_tokens=1024,\n",
        "    temperature=0,\n",
        "    top_p=0.95,\n",
        "    repeat_penalty=1.2,\n",
        "    echo=False # do not return the prompt\n",
        "  )\n",
        "  factual_answers = response[\"choices\"][0][\"text\"].strip()\n",
        "  return factual_answers"
      ]
    },
    {
      "cell_type": "code",
      "execution_count": null,
      "metadata": {
        "id": "buZfE47E0C0v"
      },
      "outputs": [],
      "source": [
        "{\"Predictive insights\": generateModelResponse(\"I'm very happy with the product\", \"You are an AI assistant that performs sentiment analysis.\")}"
      ]
    },
    {
      "cell_type": "code",
      "execution_count": null,
      "metadata": {
        "id": "XddwlvDpxU9w"
      },
      "outputs": [],
      "source": []
    },
    {
      "cell_type": "code",
      "execution_count": null,
      "metadata": {
        "id": "12Lir0_kaev5"
      },
      "outputs": [],
      "source": [
        "@app.post(\"/api/v1/predictiveInsight\")\n",
        "def predictive_insights():\n",
        "    input = request.get_json()\n",
        "    system_message = \"You are an AI assistant that generates predictive insights.\"\n",
        "    response = generateModelResponse(input.get(\"message\", \"\"), system_message)\n",
        "    return {\"Predictive insights\": response}"
      ]
    },
    {
      "cell_type": "code",
      "execution_count": null,
      "metadata": {
        "id": "LTgjJz2FaezJ"
      },
      "outputs": [],
      "source": [
        "@app.post(\"/api/v1/sentiment\")\n",
        "def sentiment_analysis():\n",
        "    input = request.get_json()\n",
        "    system_message = \"You are an AI assistant that performs sentiment analysis.\"\n",
        "    response = generateModelResponse(input.get(\"message\", \"\"), system_message)\n",
        "    return {\"User sentiment\": response}"
      ]
    },
    {
      "cell_type": "code",
      "execution_count": null,
      "metadata": {
        "id": "PlGbD86bam_J"
      },
      "outputs": [],
      "source": [
        "@app.post(\"/api/v1/personalizeRecommendation/\")\n",
        "def personalized_recommendation():\n",
        "    input = request.get_json()\n",
        "    system_message = \"You are an AI assistant that provide personalized recommendations.\"\n",
        "    response = generateModelResponse(input.get(\"message\", \"\"), system_message)\n",
        "    return {\"recommendation\": response}"
      ]
    },
    {
      "cell_type": "code",
      "execution_count": null,
      "metadata": {
        "id": "Ky19qcWtanB9"
      },
      "outputs": [],
      "source": [
        "@app.post(\"/api/v1/assessRisk/\")\n",
        "def risk_assessment():\n",
        "    input = request.get_json()\n",
        "    system_message = \"You are an AI assistant that performs risk assessments.\"\n",
        "    response = generateModelResponse(input.get(\"message\", \"\"), system_message)\n",
        "    return {\"Risk_assessment\": response}"
      ]
    },
    {
      "cell_type": "code",
      "execution_count": null,
      "metadata": {
        "id": "hKLI5El2anEZ"
      },
      "outputs": [],
      "source": [
        "@app.route(\"/\", methods=[\"GET\"])\n",
        "def root():\n",
        "    return {\"message\": \"AI-driven API for predictive insights, personalization, sentiment analysis, and risk assessment\"}"
      ]
    },
    {
      "cell_type": "code",
      "execution_count": null,
      "metadata": {
        "colab": {
          "base_uri": "https://localhost:8080/"
        },
        "id": "4eBhatweq54G",
        "outputId": "2b0211ac-de99-4299-e567-9fadd72a2d08"
      },
      "outputs": [
        {
          "output_type": "stream",
          "name": "stdout",
          "text": [
            " * Tunnel URL: NgrokTunnel: \"https://86f0-34-125-62-208.ngrok-free.app\" -> \"http://localhost:5000\"\n",
            " * Serving Flask app '__main__'\n",
            " * Debug mode: off\n"
          ]
        },
        {
          "output_type": "stream",
          "name": "stderr",
          "text": [
            "INFO:werkzeug:\u001b[31m\u001b[1mWARNING: This is a development server. Do not use it in a production deployment. Use a production WSGI server instead.\u001b[0m\n",
            " * Running on http://127.0.0.1:5000\n",
            "INFO:werkzeug:\u001b[33mPress CTRL+C to quit\u001b[0m\n",
            "WARNING:pyngrok.process.ngrok:t=2025-03-26T07:07:07+0000 lvl=warn msg=\"failed to check for update\" obj=updater err=\"Post \\\"https://update.equinox.io/check\\\": context deadline exceeded\"\n"
          ]
        },
        {
          "output_type": "stream",
          "name": "stdout",
          "text": [
            " * Running on http://86f0-34-125-62-208.ngrok-free.app\n",
            " * Traffic stats available on http://127.0.0.1:4040\n"
          ]
        },
        {
          "output_type": "stream",
          "name": "stderr",
          "text": [
            "Llama.generate: prefix-match hit\n",
            "\n",
            "llama_print_timings:        load time =     534.48 ms\n",
            "llama_print_timings:      sample time =      29.52 ms /    57 runs   (    0.52 ms per token,  1931.16 tokens per second)\n",
            "llama_print_timings: prompt eval time =     227.00 ms /    33 tokens (    6.88 ms per token,   145.38 tokens per second)\n",
            "llama_print_timings:        eval time =    1644.44 ms /    56 runs   (   29.37 ms per token,    34.05 tokens per second)\n",
            "llama_print_timings:       total time =    2036.75 ms /    89 tokens\n",
            "INFO:werkzeug:127.0.0.1 - - [26/Mar/2025 07:07:52] \"POST /api/v1/sentiment HTTP/1.1\" 200 -\n",
            "INFO:werkzeug:127.0.0.1 - - [26/Mar/2025 07:08:10] \"\u001b[32mPOST /api/v1/personalizeRecommendation HTTP/1.1\u001b[0m\" 308 -\n",
            "Llama.generate: prefix-match hit\n",
            "\n",
            "llama_print_timings:        load time =     534.48 ms\n",
            "llama_print_timings:      sample time =      63.44 ms /   118 runs   (    0.54 ms per token,  1860.11 tokens per second)\n",
            "llama_print_timings: prompt eval time =     217.01 ms /    64 tokens (    3.39 ms per token,   294.92 tokens per second)\n",
            "llama_print_timings:        eval time =    3342.75 ms /   117 runs   (   28.57 ms per token,    35.00 tokens per second)\n",
            "llama_print_timings:       total time =    3912.01 ms /   181 tokens\n",
            "INFO:werkzeug:127.0.0.1 - - [26/Mar/2025 07:08:14] \"POST /api/v1/personalizeRecommendation/ HTTP/1.1\" 200 -\n",
            "INFO:werkzeug:127.0.0.1 - - [26/Mar/2025 07:08:34] \"\u001b[32mPOST /api/v1/personalizeRecommendation HTTP/1.1\u001b[0m\" 308 -\n",
            "Llama.generate: prefix-match hit\n",
            "\n",
            "llama_print_timings:        load time =     534.48 ms\n",
            "llama_print_timings:      sample time =      73.98 ms /   135 runs   (    0.55 ms per token,  1824.82 tokens per second)\n",
            "llama_print_timings: prompt eval time =     475.85 ms /    31 tokens (   15.35 ms per token,    65.15 tokens per second)\n",
            "llama_print_timings:        eval time =    3969.03 ms /   134 runs   (   29.62 ms per token,    33.76 tokens per second)\n",
            "llama_print_timings:       total time =    4834.40 ms /   165 tokens\n",
            "INFO:werkzeug:127.0.0.1 - - [26/Mar/2025 07:08:39] \"POST /api/v1/personalizeRecommendation/ HTTP/1.1\" 200 -\n",
            "INFO:werkzeug:127.0.0.1 - - [26/Mar/2025 07:09:15] \"\u001b[32mPOST /api/v1/personalizeRecommendation HTTP/1.1\u001b[0m\" 308 -\n",
            "Llama.generate: prefix-match hit\n",
            "\n",
            "llama_print_timings:        load time =     534.48 ms\n",
            "llama_print_timings:      sample time =      99.70 ms /   181 runs   (    0.55 ms per token,  1815.48 tokens per second)\n",
            "llama_print_timings: prompt eval time =     211.52 ms /    36 tokens (    5.88 ms per token,   170.20 tokens per second)\n",
            "llama_print_timings:        eval time =    5591.35 ms /   180 runs   (   31.06 ms per token,    32.19 tokens per second)\n",
            "llama_print_timings:       total time =    6350.13 ms /   216 tokens\n",
            "INFO:werkzeug:127.0.0.1 - - [26/Mar/2025 07:09:22] \"POST /api/v1/personalizeRecommendation/ HTTP/1.1\" 200 -\n",
            "INFO:werkzeug:127.0.0.1 - - [26/Mar/2025 07:10:38] \"\u001b[32mPOST /api/v1/assessRisk HTTP/1.1\u001b[0m\" 308 -\n",
            "Llama.generate: prefix-match hit\n",
            "\n",
            "llama_print_timings:        load time =     534.48 ms\n",
            "llama_print_timings:      sample time =      93.66 ms /   174 runs   (    0.54 ms per token,  1857.76 tokens per second)\n",
            "llama_print_timings: prompt eval time =     235.03 ms /    61 tokens (    3.85 ms per token,   259.54 tokens per second)\n",
            "llama_print_timings:        eval time =    5579.89 ms /   173 runs   (   32.25 ms per token,    31.00 tokens per second)\n",
            "llama_print_timings:       total time =    6342.06 ms /   234 tokens\n",
            "INFO:werkzeug:127.0.0.1 - - [26/Mar/2025 07:10:45] \"POST /api/v1/assessRisk/ HTTP/1.1\" 200 -\n",
            "INFO:werkzeug:127.0.0.1 - - [26/Mar/2025 07:32:47] \"\u001b[32mPOST /api/v1/assessRisk HTTP/1.1\u001b[0m\" 308 -\n",
            "Llama.generate: prefix-match hit\n",
            "\n",
            "llama_print_timings:        load time =     534.48 ms\n",
            "llama_print_timings:      sample time =      95.56 ms /   171 runs   (    0.56 ms per token,  1789.47 tokens per second)\n",
            "llama_print_timings: prompt eval time =       0.00 ms /     1 tokens (    0.00 ms per token,      inf tokens per second)\n",
            "llama_print_timings:        eval time =    6251.18 ms /   171 runs   (   36.56 ms per token,    27.35 tokens per second)\n",
            "llama_print_timings:       total time =    6794.65 ms /   172 tokens\n",
            "INFO:werkzeug:127.0.0.1 - - [26/Mar/2025 07:32:55] \"POST /api/v1/assessRisk/ HTTP/1.1\" 200 -\n",
            "INFO:werkzeug:127.0.0.1 - - [26/Mar/2025 07:40:15] \"\u001b[33mPOST /predictive_insights/ HTTP/1.1\u001b[0m\" 404 -\n",
            "Llama.generate: prefix-match hit\n",
            "\n",
            "llama_print_timings:        load time =     534.48 ms\n",
            "llama_print_timings:      sample time =     106.66 ms /   171 runs   (    0.62 ms per token,  1603.21 tokens per second)\n",
            "llama_print_timings: prompt eval time =     249.79 ms /    78 tokens (    3.20 ms per token,   312.26 tokens per second)\n",
            "llama_print_timings:        eval time =    6061.54 ms /   170 runs   (   35.66 ms per token,    28.05 tokens per second)\n",
            "llama_print_timings:       total time =    6968.45 ms /   248 tokens\n",
            "INFO:werkzeug:127.0.0.1 - - [26/Mar/2025 07:40:40] \"POST /api/v1/predictiveInsight HTTP/1.1\" 200 -\n",
            "Llama.generate: prefix-match hit\n",
            "\n",
            "llama_print_timings:        load time =     534.48 ms\n",
            "llama_print_timings:      sample time =      33.04 ms /    62 runs   (    0.53 ms per token,  1876.57 tokens per second)\n",
            "llama_print_timings: prompt eval time =     234.09 ms /    60 tokens (    3.90 ms per token,   256.31 tokens per second)\n",
            "llama_print_timings:        eval time =    2168.03 ms /    61 runs   (   35.54 ms per token,    28.14 tokens per second)\n",
            "llama_print_timings:       total time =    2602.33 ms /   121 tokens\n",
            "INFO:werkzeug:127.0.0.1 - - [26/Mar/2025 07:42:08] \"POST /api/v1/sentiment HTTP/1.1\" 200 -\n",
            "INFO:werkzeug:127.0.0.1 - - [26/Mar/2025 07:42:40] \"\u001b[32mPOST /api/v1/personalizeRecommendation HTTP/1.1\u001b[0m\" 308 -\n",
            "Llama.generate: prefix-match hit\n",
            "\n",
            "llama_print_timings:        load time =     534.48 ms\n",
            "llama_print_timings:      sample time =      58.90 ms /   103 runs   (    0.57 ms per token,  1748.85 tokens per second)\n",
            "llama_print_timings: prompt eval time =     224.88 ms /    62 tokens (    3.63 ms per token,   275.71 tokens per second)\n",
            "llama_print_timings:        eval time =    3711.07 ms /   102 runs   (   36.38 ms per token,    27.49 tokens per second)\n",
            "llama_print_timings:       total time =    4291.55 ms /   164 tokens\n",
            "INFO:werkzeug:127.0.0.1 - - [26/Mar/2025 07:42:45] \"POST /api/v1/personalizeRecommendation/ HTTP/1.1\" 200 -\n",
            "INFO:werkzeug:127.0.0.1 - - [26/Mar/2025 07:43:43] \"\u001b[32mPOST /api/v1/assessRisk HTTP/1.1\u001b[0m\" 308 -\n",
            "Llama.generate: prefix-match hit\n",
            "\n",
            "llama_print_timings:        load time =     534.48 ms\n",
            "llama_print_timings:      sample time =      73.26 ms /   134 runs   (    0.55 ms per token,  1829.13 tokens per second)\n",
            "llama_print_timings: prompt eval time =     225.90 ms /    64 tokens (    3.53 ms per token,   283.32 tokens per second)\n",
            "llama_print_timings:        eval time =    4820.75 ms /   133 runs   (   36.25 ms per token,    27.59 tokens per second)\n",
            "llama_print_timings:       total time =    5488.93 ms /   197 tokens\n",
            "INFO:werkzeug:127.0.0.1 - - [26/Mar/2025 07:43:49] \"POST /api/v1/assessRisk/ HTTP/1.1\" 200 -\n"
          ]
        }
      ],
      "source": [
        "# Open a tunnel on the port Flask is running on (default 5000)\n",
        "public_url = ngrok.connect(5000)\n",
        "print(\" * Tunnel URL:\", public_url)\n",
        "\n",
        "if __name__ == \"__main__\":\n",
        "    app.run()"
      ]
    }
  ],
  "metadata": {
    "accelerator": "GPU",
    "colab": {
      "gpuType": "T4",
      "provenance": []
    },
    "kernelspec": {
      "display_name": "Python 3",
      "name": "python3"
    },
    "language_info": {
      "name": "python"
    },
    "widgets": {
      "application/vnd.jupyter.widget-state+json": {
        "dcc64f0a7cd94914ba924f4ef8e2f06c": {
          "model_module": "@jupyter-widgets/controls",
          "model_name": "HBoxModel",
          "model_module_version": "1.5.0",
          "state": {
            "_dom_classes": [],
            "_model_module": "@jupyter-widgets/controls",
            "_model_module_version": "1.5.0",
            "_model_name": "HBoxModel",
            "_view_count": null,
            "_view_module": "@jupyter-widgets/controls",
            "_view_module_version": "1.5.0",
            "_view_name": "HBoxView",
            "box_style": "",
            "children": [
              "IPY_MODEL_e9dc449cf0db49b390ecbd1367193ac7",
              "IPY_MODEL_1e6aa3a762534e58a2257b78a72ce96d",
              "IPY_MODEL_05522cf9bda64804acc4578ebfd71065"
            ],
            "layout": "IPY_MODEL_f46b3ebbb7a344a6bc091802c3b769d1"
          }
        },
        "e9dc449cf0db49b390ecbd1367193ac7": {
          "model_module": "@jupyter-widgets/controls",
          "model_name": "HTMLModel",
          "model_module_version": "1.5.0",
          "state": {
            "_dom_classes": [],
            "_model_module": "@jupyter-widgets/controls",
            "_model_module_version": "1.5.0",
            "_model_name": "HTMLModel",
            "_view_count": null,
            "_view_module": "@jupyter-widgets/controls",
            "_view_module_version": "1.5.0",
            "_view_name": "HTMLView",
            "description": "",
            "description_tooltip": null,
            "layout": "IPY_MODEL_ce6707adc768418b8bc14806cf5d8389",
            "placeholder": "​",
            "style": "IPY_MODEL_b39f611b8d7d4d46874155645d820e32",
            "value": "mistral-7b-instruct-v0.2.Q5_K_M.gguf: 100%"
          }
        },
        "1e6aa3a762534e58a2257b78a72ce96d": {
          "model_module": "@jupyter-widgets/controls",
          "model_name": "FloatProgressModel",
          "model_module_version": "1.5.0",
          "state": {
            "_dom_classes": [],
            "_model_module": "@jupyter-widgets/controls",
            "_model_module_version": "1.5.0",
            "_model_name": "FloatProgressModel",
            "_view_count": null,
            "_view_module": "@jupyter-widgets/controls",
            "_view_module_version": "1.5.0",
            "_view_name": "ProgressView",
            "bar_style": "success",
            "description": "",
            "description_tooltip": null,
            "layout": "IPY_MODEL_06d5ba1a47bf4b6d9f5867125a50944b",
            "max": 5131409696,
            "min": 0,
            "orientation": "horizontal",
            "style": "IPY_MODEL_8f59fcc8cd6f4471b9c719af76d9fa8d",
            "value": 5131409696
          }
        },
        "05522cf9bda64804acc4578ebfd71065": {
          "model_module": "@jupyter-widgets/controls",
          "model_name": "HTMLModel",
          "model_module_version": "1.5.0",
          "state": {
            "_dom_classes": [],
            "_model_module": "@jupyter-widgets/controls",
            "_model_module_version": "1.5.0",
            "_model_name": "HTMLModel",
            "_view_count": null,
            "_view_module": "@jupyter-widgets/controls",
            "_view_module_version": "1.5.0",
            "_view_name": "HTMLView",
            "description": "",
            "description_tooltip": null,
            "layout": "IPY_MODEL_c11db3d80ab84df79e618d40ce627991",
            "placeholder": "​",
            "style": "IPY_MODEL_766f93cb05f6436db2fe76e4b0ee7c02",
            "value": " 5.13G/5.13G [00:30&lt;00:00, 145MB/s]"
          }
        },
        "f46b3ebbb7a344a6bc091802c3b769d1": {
          "model_module": "@jupyter-widgets/base",
          "model_name": "LayoutModel",
          "model_module_version": "1.2.0",
          "state": {
            "_model_module": "@jupyter-widgets/base",
            "_model_module_version": "1.2.0",
            "_model_name": "LayoutModel",
            "_view_count": null,
            "_view_module": "@jupyter-widgets/base",
            "_view_module_version": "1.2.0",
            "_view_name": "LayoutView",
            "align_content": null,
            "align_items": null,
            "align_self": null,
            "border": null,
            "bottom": null,
            "display": null,
            "flex": null,
            "flex_flow": null,
            "grid_area": null,
            "grid_auto_columns": null,
            "grid_auto_flow": null,
            "grid_auto_rows": null,
            "grid_column": null,
            "grid_gap": null,
            "grid_row": null,
            "grid_template_areas": null,
            "grid_template_columns": null,
            "grid_template_rows": null,
            "height": null,
            "justify_content": null,
            "justify_items": null,
            "left": null,
            "margin": null,
            "max_height": null,
            "max_width": null,
            "min_height": null,
            "min_width": null,
            "object_fit": null,
            "object_position": null,
            "order": null,
            "overflow": null,
            "overflow_x": null,
            "overflow_y": null,
            "padding": null,
            "right": null,
            "top": null,
            "visibility": null,
            "width": null
          }
        },
        "ce6707adc768418b8bc14806cf5d8389": {
          "model_module": "@jupyter-widgets/base",
          "model_name": "LayoutModel",
          "model_module_version": "1.2.0",
          "state": {
            "_model_module": "@jupyter-widgets/base",
            "_model_module_version": "1.2.0",
            "_model_name": "LayoutModel",
            "_view_count": null,
            "_view_module": "@jupyter-widgets/base",
            "_view_module_version": "1.2.0",
            "_view_name": "LayoutView",
            "align_content": null,
            "align_items": null,
            "align_self": null,
            "border": null,
            "bottom": null,
            "display": null,
            "flex": null,
            "flex_flow": null,
            "grid_area": null,
            "grid_auto_columns": null,
            "grid_auto_flow": null,
            "grid_auto_rows": null,
            "grid_column": null,
            "grid_gap": null,
            "grid_row": null,
            "grid_template_areas": null,
            "grid_template_columns": null,
            "grid_template_rows": null,
            "height": null,
            "justify_content": null,
            "justify_items": null,
            "left": null,
            "margin": null,
            "max_height": null,
            "max_width": null,
            "min_height": null,
            "min_width": null,
            "object_fit": null,
            "object_position": null,
            "order": null,
            "overflow": null,
            "overflow_x": null,
            "overflow_y": null,
            "padding": null,
            "right": null,
            "top": null,
            "visibility": null,
            "width": null
          }
        },
        "b39f611b8d7d4d46874155645d820e32": {
          "model_module": "@jupyter-widgets/controls",
          "model_name": "DescriptionStyleModel",
          "model_module_version": "1.5.0",
          "state": {
            "_model_module": "@jupyter-widgets/controls",
            "_model_module_version": "1.5.0",
            "_model_name": "DescriptionStyleModel",
            "_view_count": null,
            "_view_module": "@jupyter-widgets/base",
            "_view_module_version": "1.2.0",
            "_view_name": "StyleView",
            "description_width": ""
          }
        },
        "06d5ba1a47bf4b6d9f5867125a50944b": {
          "model_module": "@jupyter-widgets/base",
          "model_name": "LayoutModel",
          "model_module_version": "1.2.0",
          "state": {
            "_model_module": "@jupyter-widgets/base",
            "_model_module_version": "1.2.0",
            "_model_name": "LayoutModel",
            "_view_count": null,
            "_view_module": "@jupyter-widgets/base",
            "_view_module_version": "1.2.0",
            "_view_name": "LayoutView",
            "align_content": null,
            "align_items": null,
            "align_self": null,
            "border": null,
            "bottom": null,
            "display": null,
            "flex": null,
            "flex_flow": null,
            "grid_area": null,
            "grid_auto_columns": null,
            "grid_auto_flow": null,
            "grid_auto_rows": null,
            "grid_column": null,
            "grid_gap": null,
            "grid_row": null,
            "grid_template_areas": null,
            "grid_template_columns": null,
            "grid_template_rows": null,
            "height": null,
            "justify_content": null,
            "justify_items": null,
            "left": null,
            "margin": null,
            "max_height": null,
            "max_width": null,
            "min_height": null,
            "min_width": null,
            "object_fit": null,
            "object_position": null,
            "order": null,
            "overflow": null,
            "overflow_x": null,
            "overflow_y": null,
            "padding": null,
            "right": null,
            "top": null,
            "visibility": null,
            "width": null
          }
        },
        "8f59fcc8cd6f4471b9c719af76d9fa8d": {
          "model_module": "@jupyter-widgets/controls",
          "model_name": "ProgressStyleModel",
          "model_module_version": "1.5.0",
          "state": {
            "_model_module": "@jupyter-widgets/controls",
            "_model_module_version": "1.5.0",
            "_model_name": "ProgressStyleModel",
            "_view_count": null,
            "_view_module": "@jupyter-widgets/base",
            "_view_module_version": "1.2.0",
            "_view_name": "StyleView",
            "bar_color": null,
            "description_width": ""
          }
        },
        "c11db3d80ab84df79e618d40ce627991": {
          "model_module": "@jupyter-widgets/base",
          "model_name": "LayoutModel",
          "model_module_version": "1.2.0",
          "state": {
            "_model_module": "@jupyter-widgets/base",
            "_model_module_version": "1.2.0",
            "_model_name": "LayoutModel",
            "_view_count": null,
            "_view_module": "@jupyter-widgets/base",
            "_view_module_version": "1.2.0",
            "_view_name": "LayoutView",
            "align_content": null,
            "align_items": null,
            "align_self": null,
            "border": null,
            "bottom": null,
            "display": null,
            "flex": null,
            "flex_flow": null,
            "grid_area": null,
            "grid_auto_columns": null,
            "grid_auto_flow": null,
            "grid_auto_rows": null,
            "grid_column": null,
            "grid_gap": null,
            "grid_row": null,
            "grid_template_areas": null,
            "grid_template_columns": null,
            "grid_template_rows": null,
            "height": null,
            "justify_content": null,
            "justify_items": null,
            "left": null,
            "margin": null,
            "max_height": null,
            "max_width": null,
            "min_height": null,
            "min_width": null,
            "object_fit": null,
            "object_position": null,
            "order": null,
            "overflow": null,
            "overflow_x": null,
            "overflow_y": null,
            "padding": null,
            "right": null,
            "top": null,
            "visibility": null,
            "width": null
          }
        },
        "766f93cb05f6436db2fe76e4b0ee7c02": {
          "model_module": "@jupyter-widgets/controls",
          "model_name": "DescriptionStyleModel",
          "model_module_version": "1.5.0",
          "state": {
            "_model_module": "@jupyter-widgets/controls",
            "_model_module_version": "1.5.0",
            "_model_name": "DescriptionStyleModel",
            "_view_count": null,
            "_view_module": "@jupyter-widgets/base",
            "_view_module_version": "1.2.0",
            "_view_name": "StyleView",
            "description_width": ""
          }
        }
      }
    }
  },
  "nbformat": 4,
  "nbformat_minor": 0
}